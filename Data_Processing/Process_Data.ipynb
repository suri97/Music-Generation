{
 "cells": [
  {
   "cell_type": "code",
   "execution_count": 29,
   "metadata": {},
   "outputs": [],
   "source": [
    "import numpy as np\n",
    "import mido\n",
    "from sklearn.preprocessing import MinMaxScaler"
   ]
  },
  {
   "cell_type": "code",
   "execution_count": 2,
   "metadata": {},
   "outputs": [],
   "source": [
    "def Read_File(path):\n",
    "    pattern = mido.MidiFile(path)\n",
    "    return pattern"
   ]
  },
  {
   "cell_type": "code",
   "execution_count": 7,
   "metadata": {},
   "outputs": [],
   "source": [
    "def Get_All_Msgs(pat):\n",
    "    l = []\n",
    "    \n",
    "    for i, track in enumerate(pat.tracks):\n",
    "        for msg in track:\n",
    "            if not msg.is_meta and msg.type == 'note_on':\n",
    "                l.append( msg )\n",
    "            \n",
    "    return l"
   ]
  },
  {
   "cell_type": "code",
   "execution_count": 46,
   "metadata": {},
   "outputs": [],
   "source": [
    "def Get_Data(Msgs):\n",
    "    note = []\n",
    "    velocity = []\n",
    "    t = []\n",
    "    \n",
    "    for msg in Msgs:\n",
    "        note.append( msg.note )\n",
    "        velocity.append( msg.velocity )\n",
    "        t.append ( msg.time )\n",
    "    \n",
    "    note = np.array(note, dtype=np.int64)\n",
    "    velocity = np.array(velocity, np.int64)\n",
    "    t = np.array([t])\n",
    "    \n",
    "    return note, velocity, t"
   ]
  },
  {
   "cell_type": "code",
   "execution_count": 23,
   "metadata": {},
   "outputs": [],
   "source": [
    "def Get_Categorical(v, num_classes):\n",
    "    cat_mat = np.zeros( (v.shape[0], num_classes) )\n",
    "    \n",
    "    for i in range(v.shape[0]):\n",
    "        cat_mat[i][ v[i] ] = 1\n",
    "    \n",
    "    return cat_mat"
   ]
  },
  {
   "cell_type": "code",
   "execution_count": 17,
   "metadata": {},
   "outputs": [],
   "source": [
    "def Write_File(note, vel, t):\n",
    "    \n",
    "    new_midi = mido.MidiFile()\n",
    "    track = mido.MidiTrack()\n",
    "    new_midi.tracks.append(track)\n",
    "\n",
    "    track.append(mido.Message('program_change', program=0, time=0))\n",
    "\n",
    "    for i in range( note.shape[0] ):\n",
    "        track.append( mido.Message( 'note_on' ,note = note[i], velocity = vel[i], time = t[i]) )\n",
    "    \n",
    "    return new_midi"
   ]
  },
  {
   "cell_type": "code",
   "execution_count": 65,
   "metadata": {},
   "outputs": [],
   "source": [
    "def Processed_Data(path, scaler = None):\n",
    "    \n",
    "    pat = Read_File(path)\n",
    "    l = Get_All_Msgs(pat)\n",
    "    note, velocity, t = Get_Data(l)\n",
    "    note = Get_Categorical(note, 128)\n",
    "    velocity = Get_Categorical( velocity, 128 )\n",
    "    \n",
    "    data = {\n",
    "        'note': note,\n",
    "        'velocity': velocity\n",
    "    }\n",
    "    \n",
    "    t = np.reshape(t, (-1,1) )\n",
    "    \n",
    "    if not scaler:\n",
    "        time_scaler = MinMaxScaler( feature_range=(0,1) )\n",
    "        t_scaled = time_scaler.fit_transform( np.float64(t) )\n",
    "        \n",
    "        data['scaler'] = time_scaler\n",
    "        data['MulFactor'] = time_scaler.scale_[0]\n",
    "        data['AddFactor'] = time_scaler.min_[0]\n",
    "        \n",
    "    else:\n",
    "        t_scaled = scaler.fit( np.float64(t) )\n",
    "        data['scaler'] = scaler\n",
    "        data['MulFactor'] = scaler.scale_[0]\n",
    "        data['AddFactor'] = scaler.min_[0]\n",
    "    \n",
    "    data['time'] = np.reshape(t_scaled, (1,-1) )\n",
    "    \n",
    "    ## Time will be obtained by multiplying it by MulFactor and adding AddFactor\n",
    "        \n",
    "    return data"
   ]
  }
 ],
 "metadata": {
  "kernelspec": {
   "display_name": "Python 2",
   "language": "python",
   "name": "python2"
  },
  "language_info": {
   "codemirror_mode": {
    "name": "ipython",
    "version": 2
   },
   "file_extension": ".py",
   "mimetype": "text/x-python",
   "name": "python",
   "nbconvert_exporter": "python",
   "pygments_lexer": "ipython2",
   "version": "2.7.15"
  }
 },
 "nbformat": 4,
 "nbformat_minor": 2
}
